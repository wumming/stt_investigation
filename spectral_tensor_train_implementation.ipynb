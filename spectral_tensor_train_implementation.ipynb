{
 "cells": [
  {
   "cell_type": "markdown",
   "metadata": {},
   "source": [
    "# Implementation of the Spectral Tensor-Train Decomposition"
   ]
  },
  {
   "cell_type": "markdown",
   "metadata": {},
   "source": [
    "## Overview and Setup"
   ]
  },
  {
   "cell_type": "markdown",
   "metadata": {},
   "source": [
    "First, some setup. The **TensorToolbox** library is required."
   ]
  },
  {
   "cell_type": "code",
   "execution_count": null,
   "metadata": {
    "collapsed": false
   },
   "outputs": [],
   "source": [
    "# Place all imports here\n",
    "\n",
    "import numpy as np\n",
    "import numpy.linalg as la\n",
    "import tensorly as tl\n",
    "import matplotlib.pyplot as plt\n",
    "import itertools\n",
    "\n",
    "# The authors gave their own implementation of the tensor-train decomposition - I will download and test it\n",
    "# To install dependencies, run pip install TensorToolbox, pip install SpectralToolbox, pip install UQToolbox\n",
    "\n",
    "from scipy import stats\n",
    "import TensorToolbox as TT\n",
    "from TensorToolbox.core import STT\n",
    "import SpectralToolbox"
   ]
  },
  {
   "cell_type": "code",
   "execution_count": null,
   "metadata": {
    "collapsed": true
   },
   "outputs": [],
   "source": [
    "def lsqError(set1, set2):\n",
    "    '''\n",
    "    Takes two equal-sized numpy arrays of real numbers, \n",
    "    returns the least-squares error between them\n",
    "    '''\n",
    "    return la.norm(set1 - set2)"
   ]
  },
  {
   "cell_type": "code",
   "execution_count": null,
   "metadata": {
    "collapsed": false
   },
   "outputs": [],
   "source": [
    "evaluation_counter = 0\n",
    "\n",
    "# Define a 4D polynomial function for testing purposes\n",
    "def poly1(X, params=0):\n",
    "    global evaluation_counter\n",
    "    \n",
    "    # Increment the evaluation counter with the value of the input parameter\n",
    "    evaluation_counter += params\n",
    "    \n",
    "    return X[0]**7 + X[1]**6 + X[2]**5 + X[3]**4\n",
    "\n",
    "# Quadratic polynomial\n",
    "def poly2(X, params=_):\n",
    "    return X[0]**2 + X[1]**2\n",
    "\n",
    "print(poly1([5, 2, 3, 4], 0))\n",
    "print(poly2([5, 2, 3, 4], 0))\n",
    "print(evaluation_counter)\n",
    "\n",
    "\n",
    "def getEquispaceGrid(n_dim, rng, subdivisions):\n",
    "    '''\n",
    "    Returns a grid of equally-spaced points in the specified number of dimensions\n",
    "    \n",
    "    n_dim       : The number of dimensions to construct the tensor grid in\n",
    "    rng         : The maximum dimension coordinate (grid starts at 0)\n",
    "    subdivisions: Number of subdivisions of the grid to construct\n",
    "    '''\n",
    "    return np.array([np.array(range(subdivisions + 1)) * rng * 1.0 / subdivisions for i in range(n_dim)])\n",
    "    \n",
    "\n",
    "def getDummyGrid():\n",
    "    # Return an ultra-basic dummy grid for poly1\n",
    "    grid = np.array([[0, 1, 2, 3], [0, 1, 2, 3], [0, 1, 2, 3], [0, 1, 2, 3]])\n",
    "    return grid\n",
    "\n",
    "print(getEquispaceGrid(5, 5.0, 9))\n",
    "\n",
    "def evaluateGrid(grid, fcn):\n",
    "    '''\n",
    "    Loops over a grid in specified order and computes the specified function at each\n",
    "    point in the grid, returning a list of computed values.\n",
    "    '''\n",
    "    values = np.zeros(len(grid[0]) ** len(grid))\n",
    "    idx = 0\n",
    "    for permutation in itertools.product(range(len(grid[0])), repeat=len(grid)):\n",
    "        pt = np.array([grid[i][permutation[i]] for i in range(len(permutation))])\n",
    "        values[idx] = fcn(pt)\n",
    "        idx += 1\n",
    "        \n",
    "    return values"
   ]
  },
  {
   "cell_type": "markdown",
   "metadata": {
    "collapsed": false
   },
   "source": [
    "# Testing the Procedures Presented in the Paper"
   ]
  },
  {
   "cell_type": "code",
   "execution_count": null,
   "metadata": {
    "collapsed": false
   },
   "outputs": [],
   "source": [
    "# Construct a test approximation\n",
    "approximation = STT(poly1, getDummyGrid(), params=0, surrogateONOFF = True, surrogate_type='LinearInterpolation')\n",
    "\n",
    "# Call the approximation\n",
    "x = approximation.build()\n",
    "\n",
    "approximation.__call__(np.array([0, 1, 2, 2.6]))"
   ]
  },
  {
   "cell_type": "markdown",
   "metadata": {
    "collapsed": false
   },
   "source": [
    "- At this point, we've successfully constructed an approximation. Now, we can test the function on different grid sizes, etc."
   ]
  },
  {
   "cell_type": "code",
   "execution_count": null,
   "metadata": {
    "collapsed": false
   },
   "outputs": [],
   "source": [
    "# Investigate the effect of number of grid subdivisions on the mean-squared error (grid has fixed range, polynomial\n",
    "# dimension held fixed)\n",
    "\n",
    "# This tests only linear interpolation\n",
    "\n",
    "# Test on the 4D polynomial\n",
    "\n",
    "rng = 10\n",
    "subdivs = np.array(range(2, 100, 1))\n",
    "errors = []\n",
    "numEvaluations = []\n",
    "\n",
    "# In this case, the test set will be a highly-subdivided tensor grid. Might implement a random version in the future.\n",
    "test_grid = getEquispaceGrid(4, rng, 8)\n",
    "ground_truth = evaluateGrid(test_grid, poly1)\n",
    "\n",
    "for subdiv in subdivs:\n",
    "    grid = getEquispaceGrid(4, rng, subdiv)\n",
    "    print(grid)\n",
    "    \n",
    "    # Reset evaluation counter\n",
    "    evaluation_counter = 0\n",
    "    approximation = STT(poly1, grid, params=1, surrogateONOFF = True, surrogate_type='LinearInterpolation')\n",
    "    #approximation.build()\n",
    "    \n",
    "    #numEvaluations.append(evaluation_counter)\n",
    "    #approx = evaluateGrid(test_grid, approximation.__call__)\n",
    "    #errors.append(lsqError(ground_truth, approx))\n",
    "    \n",
    "print('Done!')"
   ]
  },
  {
   "cell_type": "code",
   "execution_count": null,
   "metadata": {
    "collapsed": false
   },
   "outputs": [],
   "source": [
    "# Plot the results\n",
    "plt.figure()\n",
    "plt.plot(subdivs, errors)\n",
    "plt.xlabel('Grid Subdivisions')\n",
    "plt.ylabel('RMSE')\n",
    "plt.title('RMSE vs. Number of Grid Subdivisions, Linear')\n",
    "plt.show()\n",
    "\n",
    "# Plot the results\n",
    "plt.figure()\n",
    "plt.plot(subdivs, numEvaluations)\n",
    "plt.xlabel('Grid Subdivisions')\n",
    "plt.ylabel('# Evaluations')\n",
    "plt.title('Function Eval. Count vs. Number of Grid Subdivisions, Linear')\n",
    "plt.show()"
   ]
  },
  {
   "cell_type": "code",
   "execution_count": null,
   "metadata": {
    "collapsed": false
   },
   "outputs": [],
   "source": [
    "# Same results, but this time with the total number of tensor points instead of # of subdivisons\n",
    "\n",
    "# Plot the results\n",
    "plt.figure()\n",
    "plt.plot([4 ** subdiv for subdiv in subdivs], errors)\n",
    "plt.xlabel('Number of Grid Points')\n",
    "plt.ylabel('RMSE')\n",
    "plt.title('RMSE vs. Number of Grid Points, Linear')\n",
    "plt.show()\n",
    "\n",
    "# Plot the results\n",
    "plt.figure()\n",
    "plt.plot([4 ** subdiv for subdiv in subdivs], numEvaluations)\n",
    "plt.xlabel('Number of Grid Points')\n",
    "plt.ylabel('# Evaluations')\n",
    "plt.title('# Evaluations vs. Number of Grid Points, Linear')\n",
    "plt.show()"
   ]
  },
  {
   "cell_type": "code",
   "execution_count": null,
   "metadata": {
    "collapsed": false,
    "scrolled": true
   },
   "outputs": [],
   "source": [
    "# Same tests on the weird degree 7 polynomial, except testing Lagrange interpolation this time\n",
    "\n",
    "rng = 10\n",
    "subdivs = np.array(range(2, 7, 1))\n",
    "errors = []\n",
    "numEvaluations = []\n",
    "\n",
    "\n",
    "test_grid = getEquispaceGrid(4, rng, 8)\n",
    "ground_truth = evaluateGrid(test_grid, poly1)\n",
    "\n",
    "for subdiv in subdivs:\n",
    "    grid = getEquispaceGrid(4, rng, subdiv)\n",
    "    print(grid)\n",
    "    \n",
    "    # Reset evaluation counter\n",
    "    evaluation_counter = 0\n",
    "    approximation = STT(poly1, grid, params=1, surrogateONOFF = True, surrogate_type='LagrangeInterpolation')\n",
    "    approximation.build()\n",
    "    \n",
    "    numEvaluations.append(evaluation_counter)\n",
    "    approx = evaluateGrid(test_grid, approximation.__call__)\n",
    "    errors.append(lsqError(ground_truth, approx))\n",
    "    \n",
    "print('Done!')\n",
    "\n",
    "# Plot the results\n",
    "plt.figure()\n",
    "plt.plot(subdivs, errors)\n",
    "plt.xlabel('Grid Subdivisions')\n",
    "plt.ylabel('RMSE')\n",
    "plt.title('RMSE vs. Number of Grid Subdivisions, Lagrange')\n",
    "plt.show()\n",
    "\n",
    "# Plot the results\n",
    "plt.figure()\n",
    "plt.plot(subdivs, numEvaluations)\n",
    "plt.xlabel('Grid Subdivisions')\n",
    "plt.ylabel('# Evaluations')\n",
    "plt.title('Function Eval. Count vs. Number of Grid Subdivisions, Lagrange')\n",
    "plt.show()"
   ]
  },
  {
   "cell_type": "markdown",
   "metadata": {},
   "source": [
    "- It's clear that Lagrange polynomial interpolation yields superior results to linear interpolation"
   ]
  },
  {
   "cell_type": "code",
   "execution_count": null,
   "metadata": {
    "collapsed": false
   },
   "outputs": [],
   "source": [
    "# Same test with projection - this one yields a weird error\n",
    "\n",
    "rng = 10\n",
    "subdivs = np.array(range(2, 7, 1))\n",
    "errors = []\n",
    "numEvaluations = []\n",
    "\n",
    "\n",
    "test_grid = getEquispaceGrid(4, rng, 8)\n",
    "ground_truth = evaluateGrid(test_grid, poly1)\n",
    "\n",
    "for subdiv in subdivs:\n",
    "    grid = getEquispaceGrid(4, rng, subdiv)\n",
    "    print(grid)\n",
    "    \n",
    "    # Reset evaluation counter\n",
    "    evaluation_counter = 0\n",
    "    approximation = STT(poly1, grid, params=1, surrogateONOFF = True, surrogate_type='Projection')\n",
    "    approximation.build()\n",
    "    \n",
    "    numEvaluations.append(evaluation_counter)\n",
    "    approx = evaluateGrid(test_grid, approximation.__call__)\n",
    "    errors.append(lsqError(ground_truth, approx))\n",
    "    \n"
   ]
  },
  {
   "cell_type": "markdown",
   "metadata": {
    "collapsed": true
   },
   "source": [
    "# Homebrewed implementation\n",
    "\n",
    "- In progess. Still need to find a set of orthonormal basis functions - Lagrange polynomials?"
   ]
  },
  {
   "cell_type": "code",
   "execution_count": null,
   "metadata": {
    "collapsed": false
   },
   "outputs": [],
   "source": []
  },
  {
   "cell_type": "code",
   "execution_count": null,
   "metadata": {
    "collapsed": false
   },
   "outputs": [],
   "source": []
  },
  {
   "cell_type": "code",
   "execution_count": null,
   "metadata": {
    "collapsed": false
   },
   "outputs": [],
   "source": []
  },
  {
   "cell_type": "markdown",
   "metadata": {},
   "source": [
    "## Testing out TT-DMRG Cross\n"
   ]
  },
  {
   "cell_type": "code",
   "execution_count": null,
   "metadata": {
    "collapsed": true
   },
   "outputs": [],
   "source": []
  }
 ],
 "metadata": {
  "celltoolbar": "Raw Cell Format",
  "kernelspec": {
   "display_name": "Python 3",
   "language": "python",
   "name": "python3"
  },
  "language_info": {
   "codemirror_mode": {
    "name": "ipython",
    "version": 3
   },
   "file_extension": ".py",
   "mimetype": "text/x-python",
   "name": "python",
   "nbconvert_exporter": "python",
   "pygments_lexer": "ipython3",
   "version": "3.6.0"
  }
 },
 "nbformat": 4,
 "nbformat_minor": 2
}
